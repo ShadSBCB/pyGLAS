{
 "cells": [
  {
   "cell_type": "code",
   "execution_count": null,
   "metadata": {
    "collapsed": true
   },
   "outputs": [],
   "source": [
    "This is how to use pyGLAS with 1 topology"
   ]
  },
  {
   "cell_type": "code",
   "execution_count": 3,
   "metadata": {
    "collapsed": false
   },
   "outputs": [
    {
     "name": "stdout",
     "output_type": "stream",
     "text": [
      "total 600\r\n",
      "-rw-r--r--  1 naushadvelgy  staff      44 21 Nov 10:57 Note\r\n",
      "-r--------  1 naushadvelgy  staff  290150 21 Nov 10:51 Receptor_GPCRDB.pdb\r\n",
      "-rw-r--r--  1 naushadvelgy  staff    4238 10 Oct 15:38 Untitled.ipynb\r\n",
      "-rw-r--r--  1 naushadvelgy  staff     774 21 Nov 11:00 Untitled1.ipynb\r\n"
     ]
    }
   ],
   "source": [
    "ll"
   ]
  },
  {
   "cell_type": "code",
   "execution_count": null,
   "metadata": {
    "collapsed": true
   },
   "outputs": [],
   "source": [
    "Topology here is Receptor_GPCRDB.pdb"
   ]
  },
  {
   "cell_type": "code",
   "execution_count": null,
   "metadata": {
    "collapsed": true
   },
   "outputs": [],
   "source": [
    "To run short output: /path/to/python /path/to/pyGLAS.py -r /path/to/topology.pdb(gro also acceptable)"
   ]
  },
  {
   "cell_type": "code",
   "execution_count": null,
   "metadata": {
    "collapsed": true
   },
   "outputs": [],
   "source": [
    "In Jupyter, \"run\" is an acceptable substitute to /path/to/python.\n",
    "Attention: this will use the python library where jupyter is installed; if you installed Jupyter using Anaconda\n",
    "    (like I did), please make sure you have all relevant modules and libraries installed in Anaconda. Requirements\n",
    "    are found in pyGLAS/requirements.txt."
   ]
  },
  {
   "cell_type": "code",
   "execution_count": 4,
   "metadata": {
    "collapsed": false
   },
   "outputs": [
    {
     "name": "stderr",
     "output_type": "stream",
     "text": [
      "/Users/naushadvelgy/scripts/miniconda/lib/python2.7/site-packages/numpy/lib/utils.py:99: DeprecationWarning: `scipy.linalg.calc_lwork` is deprecated!\n",
      "\n",
      "calc_lwork was an internal module in Scipy and has been removed.\n",
      "\n",
      "Several functions in scipy.linalg.lapack have *_lwork variants\n",
      "that perform the lwork calculation (from Scipy >= 0.15.0), or\n",
      "allow passing in LWORK=-1 argument to perform the computation.\n",
      "\n",
      "\n",
      "  warnings.warn(depdoc, DeprecationWarning)\n"
     ]
    },
    {
     "name": "stdout",
     "output_type": "stream",
     "text": [
      "Output type check...\n",
      "\n",
      "Checks out!\n",
      "\n",
      "Checking input...\n",
      "\n",
      "Since you didn't input any CHICOs or NACHOs files, I will attempt to calculate them from the input structure. I will pass the input receptor to the GPCRDb and retrieve the results (coming soon...). Please ensure you cite the GPCRDb (see references directory) if this shows up in the screen.\n",
      "Successfully loaded topology.\n",
      "\n",
      "Attempting to get CHICOs from input file...\n",
      "\n",
      "Since you asked me to find the CHICOs, I will write them to a file so you can verify and confirm them.\n",
      " \n",
      "CHICOs loaded from input structure.\n",
      "\n",
      "Attempting to get NACHOs from input file...\n",
      "\n",
      "Since you asked me to find the NACHOs, I will write them to a file so you can verify and confirm them.\n",
      "\n",
      "NACHOs loaded from input structure.\n",
      "\n",
      "Pre-initialising relevant variables and arrays...\n",
      "\n"
     ]
    },
    {
     "name": "stderr",
     "output_type": "stream",
     "text": [
      "/Users/naushadvelgy/scripts/miniconda/lib/python2.7/site-packages/numpy/lib/utils.py:99: DeprecationWarning: `get_positions` is deprecated!\n",
      "This will be removed in version 0.16.0; use `positions` property instead\n",
      "  warnings.warn(depdoc, DeprecationWarning)\n"
     ]
    }
   ],
   "source": [
    "run ../../scripts/pyGLAS.py -r Receptor_GPCRDB.pdb"
   ]
  },
  {
   "cell_type": "code",
   "execution_count": null,
   "metadata": {
    "collapsed": true
   },
   "outputs": [],
   "source": [
    "Now, there should be some new files."
   ]
  },
  {
   "cell_type": "code",
   "execution_count": 5,
   "metadata": {
    "collapsed": false
   },
   "outputs": [
    {
     "name": "stdout",
     "output_type": "stream",
     "text": [
      "total 624\r\n",
      "-rw-r--r--  1 naushadvelgy  staff      44 21 Nov 10:57 Note\r\n",
      "-r--------  1 naushadvelgy  staff  290150 21 Nov 10:51 Receptor_GPCRDB.pdb\r\n",
      "-rw-r--r--  1 naushadvelgy  staff     241 21 Nov 11:04 Receptor_GPCRDB_CHICOs.txt\r\n",
      "-rw-r--r--  1 naushadvelgy  staff     255 21 Nov 11:04 Receptor_GPCRDB_GLAS.short\r\n",
      "-rw-r--r--  1 naushadvelgy  staff     154 21 Nov 11:04 Receptor_GPCRDB_NACHOs.txt\r\n",
      "-rw-r--r--  1 naushadvelgy  staff    4238 10 Oct 15:38 Untitled.ipynb\r\n",
      "-rw-r--r--  1 naushadvelgy  staff    2064 21 Nov 11:04 Untitled1.ipynb\r\n"
     ]
    }
   ],
   "source": [
    "ll"
   ]
  },
  {
   "cell_type": "code",
   "execution_count": null,
   "metadata": {
    "collapsed": true
   },
   "outputs": [],
   "source": [
    "Receptor_CHICOs.txt and Receptor_NACHOs.txt have the residue pairs used in the script."
   ]
  },
  {
   "cell_type": "code",
   "execution_count": 6,
   "metadata": {
    "collapsed": false
   },
   "outputs": [
    {
     "name": "stdout",
     "output_type": "stream",
     "text": [
      "1\t74\t89\n",
      "\n",
      "2\t87\t142\n",
      "\n",
      "3\t92\t70\n",
      "\n",
      "4\t92\t67\n",
      "\n",
      "5\t67\t95\n",
      "\n",
      "6\t95\t311\n",
      "\n",
      "7\t67\t311\n",
      "\n",
      "8\t130\t180\n",
      "\n",
      "9\t176\t130\n",
      "\n",
      "10\t176\t134\n",
      "\n",
      "11\t134\t173\n",
      "\n",
      "12\t140\t229\n",
      "\n",
      "13\t229\t267\n",
      "\n",
      "14\t143\t232\n",
      "\n",
      "15\t232\t147\n",
      "\n",
      "16\t147\t235\n",
      "\n",
      "17\t88\t318\n",
      "\n",
      "18\t132\t274\n",
      "\n",
      "19\t136\t270\n",
      "\n",
      "20\t63\t312\n",
      "\n",
      "21\t66\t315\n",
      "\n",
      "22\t277\t304\n",
      "\n",
      "23\t277\t303\n",
      "\n",
      "24\t273\t310\n",
      "\n"
     ]
    }
   ],
   "source": [
    "with open(\"Receptor_GPCRDB_CHICOs.txt\", \"r\") as chicos:\n",
    "    for line in chicos:\n",
    "        print line"
   ]
  },
  {
   "cell_type": "code",
   "execution_count": null,
   "metadata": {
    "collapsed": true
   },
   "outputs": [],
   "source": [
    "These can then be used as input for further runs."
   ]
  },
  {
   "cell_type": "code",
   "execution_count": 7,
   "metadata": {
    "collapsed": false
   },
   "outputs": [
    {
     "name": "stdout",
     "output_type": "stream",
     "text": [
      "##################################################\r\n",
      "#           Thank you for using pyGLAS           #\r\n",
      "#         The GLAS of your receptor is 21        #\r\n",
      "#  Please ensure you cite all relevant sources.  #\r\n",
      "##################################################\r\n"
     ]
    }
   ],
   "source": [
    "cat Receptor_GPCRDB_GLAS.short"
   ]
  },
  {
   "cell_type": "code",
   "execution_count": null,
   "metadata": {
    "collapsed": true
   },
   "outputs": [],
   "source": [
    "This is the GLAS of your receptor. \n",
    "If you use this value in your modelling, please ensure you reference the relevant sources."
   ]
  },
  {
   "cell_type": "code",
   "execution_count": null,
   "metadata": {
    "collapsed": true
   },
   "outputs": [],
   "source": [
    "There is also a long output."
   ]
  },
  {
   "cell_type": "code",
   "execution_count": 8,
   "metadata": {
    "collapsed": false
   },
   "outputs": [
    {
     "name": "stdout",
     "output_type": "stream",
     "text": [
      "Output type check...\n",
      "\n",
      "Checks out!\n",
      "\n",
      "Checking input...\n",
      "\n",
      "Since you didn't input any CHICOs or NACHOs files, I will attempt to calculate them from the input structure. I will pass the input receptor to the GPCRDb and retrieve the results (coming soon...). Please ensure you cite the GPCRDb (see references directory) if this shows up in the screen.\n",
      "Successfully loaded topology.\n",
      "\n",
      "Attempting to get CHICOs from input file...\n",
      "\n",
      "Since you asked me to find the CHICOs, I will write them to a file so you can verify and confirm them.\n",
      " \n",
      "CHICOs loaded from input structure.\n",
      "\n",
      "Attempting to get NACHOs from input file...\n",
      "\n",
      "Since you asked me to find the NACHOs, I will write them to a file so you can verify and confirm them.\n",
      "\n",
      "NACHOs loaded from input structure.\n",
      "\n",
      "Pre-initialising relevant variables and arrays...\n",
      "\n"
     ]
    }
   ],
   "source": [
    "run ../../scripts/pyGLAS.py -r Receptor_GPCRDB.pdb --format long"
   ]
  },
  {
   "cell_type": "code",
   "execution_count": 9,
   "metadata": {
    "collapsed": false
   },
   "outputs": [
    {
     "name": "stdout",
     "output_type": "stream",
     "text": [
      "total 640\r\n",
      "-rw-r--r--  1 naushadvelgy  staff      44 21 Nov 10:57 Note\r\n",
      "-r--------  1 naushadvelgy  staff  290150 21 Nov 10:51 Receptor_GPCRDB.pdb\r\n",
      "-rw-r--r--  1 naushadvelgy  staff     241 21 Nov 11:12 Receptor_GPCRDB_CHICOs.txt\r\n",
      "-rw-r--r--  1 naushadvelgy  staff     621 21 Nov 11:12 Receptor_GPCRDB_GLAS.long\r\n",
      "-rw-r--r--  1 naushadvelgy  staff     255 21 Nov 11:04 Receptor_GPCRDB_GLAS.short\r\n",
      "-rw-r--r--  1 naushadvelgy  staff     154 21 Nov 11:12 Receptor_GPCRDB_NACHOs.txt\r\n",
      "-rw-r--r--  1 naushadvelgy  staff    4238 10 Oct 15:38 Untitled.ipynb\r\n",
      "-rw-r--r--  1 naushadvelgy  staff    7994 21 Nov 11:12 Using_pyGLAS_single_topology.ipynb\r\n"
     ]
    }
   ],
   "source": [
    "ll"
   ]
  },
  {
   "cell_type": "code",
   "execution_count": null,
   "metadata": {
    "collapsed": true
   },
   "outputs": [],
   "source": [
    "Now there is a .long file as well."
   ]
  },
  {
   "cell_type": "code",
   "execution_count": 10,
   "metadata": {
    "collapsed": false
   },
   "outputs": [
    {
     "name": "stdout",
     "output_type": "stream",
     "text": [
      "##################################################\r\n",
      "#           Thank you for using pyGLAS           #\r\n",
      "#         The GLAS of your receptor is 21        #\r\n",
      "#  Please ensure you cite all relevant sources.  #\r\n",
      "##################################################\r\n",
      "\r\n",
      "Since you have requested a long form output, below\r\n",
      "are the 24 pairs with the minimum distance between\r\n",
      "them.\r\n",
      "\r\n",
      "\tPair #\tMinimum Distance\r\n",
      "\t1\t4.044\r\n",
      "\t2\t2.931\r\n",
      "\t3\t3.812\r\n",
      "\t4\t3.500\r\n",
      "\t5\t3.446\r\n",
      "\t6\t2.741\r\n",
      "\t7\t2.924\r\n",
      "\t8\t3.623\r\n",
      "\t9\t3.877\r\n",
      "\t10\t3.665\r\n",
      "\t11\t3.867\r\n",
      "\t12\t3.683\r\n",
      "\t13\t3.509\r\n",
      "\t14\t4.107\r\n",
      "\t15\t4.041\r\n",
      "\t16\t3.655\r\n",
      "\t17\t3.629\r\n",
      "\t18\t3.675\r\n",
      "\t19\t3.752\r\n",
      "\t20\t3.689\r\n",
      "\t21\t3.836\r\n",
      "\t22\t3.643\r\n",
      "\t23\t3.679\r\n",
      "\t24\t3.634\r\n"
     ]
    }
   ],
   "source": [
    "cat Receptor_GPCRDB_GLAS.long"
   ]
  },
  {
   "cell_type": "code",
   "execution_count": null,
   "metadata": {
    "collapsed": true
   },
   "outputs": [],
   "source": [
    "This shows all the minimum distances between residue pairs (in A). It may help discriminate between better models."
   ]
  }
 ],
 "metadata": {
  "kernelspec": {
   "display_name": "Python 2",
   "language": "python",
   "name": "python2"
  },
  "language_info": {
   "codemirror_mode": {
    "name": "ipython",
    "version": 2
   },
   "file_extension": ".py",
   "mimetype": "text/x-python",
   "name": "python",
   "nbconvert_exporter": "python",
   "pygments_lexer": "ipython2",
   "version": "2.7.12"
  }
 },
 "nbformat": 4,
 "nbformat_minor": 1
}
