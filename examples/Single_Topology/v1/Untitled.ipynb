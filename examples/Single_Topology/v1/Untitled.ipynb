{
 "cells": [
  {
   "cell_type": "code",
   "execution_count": 2,
   "metadata": {
    "collapsed": false
   },
   "outputs": [
    {
     "name": "stdout",
     "output_type": "stream",
     "text": [
      "Parsing\n"
     ]
    }
   ],
   "source": [
    "print \"Parsing\""
   ]
  },
  {
   "cell_type": "code",
   "execution_count": 5,
   "metadata": {
    "collapsed": false
   },
   "outputs": [],
   "source": [
    "f = open('DOR_GLAS.txt');"
   ]
  },
  {
   "cell_type": "raw",
   "metadata": {},
   "source": []
  },
  {
   "cell_type": "code",
   "execution_count": 6,
   "metadata": {
    "collapsed": false
   },
   "outputs": [
    {
     "name": "stdout",
     "output_type": "stream",
     "text": [
      "<open file 'DOR_GLAS.txt', mode 'r' at 0x7fa1380c4f60>\n"
     ]
    }
   ],
   "source": [
    "print f"
   ]
  },
  {
   "cell_type": "code",
   "execution_count": 7,
   "metadata": {
    "collapsed": true
   },
   "outputs": [],
   "source": [
    "data = f.readlines()"
   ]
  },
  {
   "cell_type": "code",
   "execution_count": 8,
   "metadata": {
    "collapsed": false
   },
   "outputs": [
    {
     "name": "stdout",
     "output_type": "stream",
     "text": [
      "['#ResBW\\tResN\\tResBW\\tResN\\tMinDist\\n', '1.57\\tI74\\t2.44\\tF89\\t4.5\\n', '2.42\\tY87\\t2.44\\tM142\\t2.9\\n', '2.47\\tA92\\t1.53\\tV70\\t3.8\\n', '2.47    A92\\t1.50\\tN67\\t3.6\\n', '1.50\\tN67\\t2.50\\tD95\\t3.4\\n', '2.50\\tD95\\t7.46\\tS311\\t2.7\\n', '1.50\\tN67\\t7.46\\tS311\\t2.9\\n', '3.34\\tY130\\t4.57\\tG180\\t3.6\\n', '4.53\\tA176\\t3.34\\tY130\\t3.9\\n', '4.53\\tA176\\t3.38\\tT134\\t3.7\\n', '3.38\\tT134\\t4.50\\tW173\\t3.9\\n', '3.44\\tT140\\t5.54\\tI229\\t3.7\\n', '5.54\\tI229\\t6.41\\tV267\\t3.5\\n', '3.47\\tS143\\t5.57\\tC232\\t4.3\\n', '5.57\\tC232\\t3.51\\tY147\\t4.0\\n', '3.51\\tY147\\t5.60\\tL235\\t3.8\\n', '2.43\\tI88\\t7.53\\tY318\\t4.0\\n', '3.36\\tM132\\t6.48\\tW274\\t4.0\\n', '3.40\\tI136\\t6.44\\tF270\\t3.8\\n', '1.46\\tG63\\t7.47\\tS312\\t3.7\\n', '1.49\\tG66\\t7.50\\tP315\\t3.8\\n', '6.51\\tI277\\t7.39\\tA305\\t6.6\\n', '6.51\\tI277\\t7.38\\tI304\\t3.6\\n', '6.47\\tC273\\t7.35\\tN310\\t3.8\\n']\n"
     ]
    }
   ],
   "source": [
    "print data"
   ]
  },
  {
   "cell_type": "code",
   "execution_count": 9,
   "metadata": {
    "collapsed": false
   },
   "outputs": [
    {
     "ename": "ValueError",
     "evalue": "too many values to unpack",
     "output_type": "error",
     "traceback": [
      "\u001b[1;31m---------------------------------------------------------------------------\u001b[0m",
      "\u001b[1;31mValueError\u001b[0m                                Traceback (most recent call last)",
      "\u001b[1;32m<ipython-input-9-277b71f63ecd>\u001b[0m in \u001b[0;36m<module>\u001b[1;34m()\u001b[0m\n\u001b[0;32m      1\u001b[0m \u001b[1;32mfor\u001b[0m \u001b[0mline\u001b[0m \u001b[1;32min\u001b[0m \u001b[0mdata\u001b[0m\u001b[1;33m:\u001b[0m\u001b[1;33m\u001b[0m\u001b[0m\n\u001b[1;32m----> 2\u001b[1;33m     \u001b[0mkey\u001b[0m\u001b[1;33m,\u001b[0m \u001b[0mvalue\u001b[0m \u001b[1;33m=\u001b[0m \u001b[0mline\u001b[0m\u001b[1;33m.\u001b[0m\u001b[0msplit\u001b[0m\u001b[1;33m(\u001b[0m\u001b[1;34m\"\\t\"\u001b[0m\u001b[1;33m)\u001b[0m\u001b[1;33m\u001b[0m\u001b[0m\n\u001b[0m",
      "\u001b[1;31mValueError\u001b[0m: too many values to unpack"
     ]
    }
   ],
   "source": [
    "for line in data:\n",
    "    key, value = line.split(\"\\t\")"
   ]
  },
  {
   "cell_type": "code",
   "execution_count": 10,
   "metadata": {
    "collapsed": true
   },
   "outputs": [],
   "source": [
    "import csv"
   ]
  },
  {
   "cell_type": "code",
   "execution_count": 11,
   "metadata": {
    "collapsed": false
   },
   "outputs": [
    {
     "ename": "TypeError",
     "evalue": " expected at least 1 arguments, got 0",
     "output_type": "error",
     "traceback": [
      "\u001b[1;31m---------------------------------------------------------------------------\u001b[0m",
      "\u001b[1;31mTypeError\u001b[0m                                 Traceback (most recent call last)",
      "\u001b[1;32m<ipython-input-11-61e5f8d01100>\u001b[0m in \u001b[0;36m<module>\u001b[1;34m()\u001b[0m\n\u001b[1;32m----> 1\u001b[1;33m \u001b[0mcsv\u001b[0m\u001b[1;33m.\u001b[0m\u001b[0mreader\u001b[0m\u001b[1;33m(\u001b[0m\u001b[1;33m)\u001b[0m\u001b[1;33m\u001b[0m\u001b[0m\n\u001b[0m",
      "\u001b[1;31mTypeError\u001b[0m:  expected at least 1 arguments, got 0"
     ]
    }
   ],
   "source": [
    "csv.reader()"
   ]
  },
  {
   "cell_type": "code",
   "execution_count": 15,
   "metadata": {
    "collapsed": false
   },
   "outputs": [],
   "source": [
    "f1 = csv.reader(StringIO.StringIO(\"DOR_GLAS.txt\"), delimiter='\\t')"
   ]
  },
  {
   "cell_type": "code",
   "execution_count": 13,
   "metadata": {
    "collapsed": true
   },
   "outputs": [],
   "source": [
    "import StringIO"
   ]
  },
  {
   "cell_type": "code",
   "execution_count": 16,
   "metadata": {
    "collapsed": false
   },
   "outputs": [
    {
     "name": "stdout",
     "output_type": "stream",
     "text": [
      "<_csv.reader object at 0x7fa138008830>\n"
     ]
    }
   ],
   "source": [
    "print f1"
   ]
  },
  {
   "cell_type": "code",
   "execution_count": 18,
   "metadata": {
    "collapsed": false
   },
   "outputs": [],
   "source": [
    "for row in f1:\n",
    "    print row[f1]"
   ]
  },
  {
   "cell_type": "code",
   "execution_count": 20,
   "metadata": {
    "collapsed": false
   },
   "outputs": [],
   "source": [
    "f2 = csv.reader(open(\"DOR_GLAS.txt\"), delimiter='\\t')"
   ]
  },
  {
   "cell_type": "raw",
   "metadata": {},
   "source": []
  },
  {
   "cell_type": "code",
   "execution_count": 30,
   "metadata": {
    "collapsed": false
   },
   "outputs": [
    {
     "name": "stdout",
     "output_type": "stream",
     "text": [
      "<_csv.reader object at 0x7fa1380087c0>\n"
     ]
    }
   ],
   "source": [
    "print f2"
   ]
  },
  {
   "cell_type": "code",
   "execution_count": 34,
   "metadata": {
    "collapsed": false
   },
   "outputs": [],
   "source": [
    "for row in f2:\n",
    "    r=row.strip()\n",
    "    if not r.startswith(\"#\"):\n",
    "        print r\n",
    "        "
   ]
  },
  {
   "cell_type": "code",
   "execution_count": 33,
   "metadata": {
    "collapsed": true
   },
   "outputs": [],
   "source": [
    "import sys"
   ]
  },
  {
   "cell_type": "code",
   "execution_count": 35,
   "metadata": {
    "collapsed": false
   },
   "outputs": [
    {
     "ename": "NameError",
     "evalue": "name 'r' is not defined",
     "output_type": "error",
     "traceback": [
      "\u001b[1;31m---------------------------------------------------------------------------\u001b[0m",
      "\u001b[1;31mNameError\u001b[0m                                 Traceback (most recent call last)",
      "\u001b[1;32m<ipython-input-35-898732f959eb>\u001b[0m in \u001b[0;36m<module>\u001b[1;34m()\u001b[0m\n\u001b[1;32m----> 1\u001b[1;33m \u001b[1;32mprint\u001b[0m \u001b[0mr\u001b[0m\u001b[1;33m\u001b[0m\u001b[0m\n\u001b[0m",
      "\u001b[1;31mNameError\u001b[0m: name 'r' is not defined"
     ]
    }
   ],
   "source": [
    "print r"
   ]
  },
  {
   "cell_type": "code",
   "execution_count": 36,
   "metadata": {
    "collapsed": false
   },
   "outputs": [
    {
     "name": "stdout",
     "output_type": "stream",
     "text": [
      "['6.47', 'C273', '7.35', 'N310', '3.8']\n"
     ]
    }
   ],
   "source": [
    "print row"
   ]
  },
  {
   "cell_type": "code",
   "execution_count": 40,
   "metadata": {
    "collapsed": false
   },
   "outputs": [],
   "source": [
    "for row in f2:\n",
    "    print row"
   ]
  },
  {
   "cell_type": "code",
   "execution_count": 1,
   "metadata": {
    "collapsed": false
   },
   "outputs": [
    {
     "name": "stdout",
     "output_type": "stream",
     "text": [
      "Looping over parsed variables\n"
     ]
    }
   ],
   "source": [
    "print \"Looping over parsed variables\""
   ]
  },
  {
   "cell_type": "code",
   "execution_count": 2,
   "metadata": {
    "collapsed": true
   },
   "outputs": [],
   "source": [
    "import csv"
   ]
  },
  {
   "cell_type": "code",
   "execution_count": 3,
   "metadata": {
    "collapsed": true
   },
   "outputs": [],
   "source": [
    "f = csv.reader(open('DOR_GLAS.csv'))"
   ]
  },
  {
   "cell_type": "code",
   "execution_count": 4,
   "metadata": {
    "collapsed": true
   },
   "outputs": [],
   "source": [
    "import numpy as nm"
   ]
  },
  {
   "cell_type": "code",
   "execution_count": 5,
   "metadata": {
    "collapsed": true
   },
   "outputs": [],
   "source": [
    "ContactsArray = nm.zeros((24,2))"
   ]
  },
  {
   "cell_type": "code",
   "execution_count": 6,
   "metadata": {
    "collapsed": true
   },
   "outputs": [],
   "source": [
    "for i,row in enumerate(f):\n",
    "    ContactsArray[i]=[row[0], row[1]]"
   ]
  },
  {
   "cell_type": "code",
   "execution_count": 7,
   "metadata": {
    "collapsed": false
   },
   "outputs": [
    {
     "data": {
      "text/plain": [
       "array([[  74.,   89.],\n",
       "       [  87.,  142.],\n",
       "       [  92.,   70.],\n",
       "       [  92.,   67.],\n",
       "       [  67.,   95.],\n",
       "       [  95.,  311.],\n",
       "       [  67.,  311.],\n",
       "       [ 130.,  180.],\n",
       "       [ 176.,  130.],\n",
       "       [ 176.,  134.],\n",
       "       [ 134.,  173.],\n",
       "       [ 140.,  229.],\n",
       "       [ 229.,  267.],\n",
       "       [ 143.,  232.],\n",
       "       [ 232.,  147.],\n",
       "       [ 147.,  235.],\n",
       "       [  88.,  318.],\n",
       "       [ 132.,  274.],\n",
       "       [ 136.,  270.],\n",
       "       [  63.,  312.],\n",
       "       [  66.,  315.],\n",
       "       [ 277.,  305.],\n",
       "       [ 277.,  304.],\n",
       "       [ 273.,  310.]])"
      ]
     },
     "execution_count": 7,
     "metadata": {},
     "output_type": "execute_result"
    }
   ],
   "source": [
    "ContactsArray"
   ]
  },
  {
   "cell_type": "code",
   "execution_count": 8,
   "metadata": {
    "collapsed": false
   },
   "outputs": [
    {
     "name": "stdout",
     "output_type": "stream",
     "text": [
      "[ 74.  89.]\n",
      "[  87.  142.]\n",
      "[ 92.  70.]\n",
      "[ 92.  67.]\n",
      "[ 67.  95.]\n",
      "[  95.  311.]\n",
      "[  67.  311.]\n",
      "[ 130.  180.]\n",
      "[ 176.  130.]\n",
      "[ 176.  134.]\n",
      "[ 134.  173.]\n",
      "[ 140.  229.]\n",
      "[ 229.  267.]\n",
      "[ 143.  232.]\n",
      "[ 232.  147.]\n",
      "[ 147.  235.]\n",
      "[  88.  318.]\n",
      "[ 132.  274.]\n",
      "[ 136.  270.]\n",
      "[  63.  312.]\n",
      "[  66.  315.]\n",
      "[ 277.  305.]\n",
      "[ 277.  304.]\n",
      "[ 273.  310.]\n"
     ]
    }
   ],
   "source": [
    "for row in ContactsArray:\n",
    "    print row"
   ]
  },
  {
   "cell_type": "code",
   "execution_count": 9,
   "metadata": {
    "collapsed": true
   },
   "outputs": [],
   "source": [
    "from MDAnalysis import Universe as u"
   ]
  },
  {
   "cell_type": "code",
   "execution_count": 10,
   "metadata": {
    "collapsed": true
   },
   "outputs": [],
   "source": [
    "topol = u('4N6H.pdb')"
   ]
  },
  {
   "cell_type": "code",
   "execution_count": 11,
   "metadata": {
    "collapsed": true
   },
   "outputs": [],
   "source": [
    "from MDAnalysis.analysis import distances as dists"
   ]
  },
  {
   "cell_type": "code",
   "execution_count": 17,
   "metadata": {
    "collapsed": false
   },
   "outputs": [
    {
     "name": "stdout",
     "output_type": "stream",
     "text": [
      "1\n"
     ]
    }
   ],
   "source": [
    "print \"%d\" % 1"
   ]
  },
  {
   "cell_type": "code",
   "execution_count": 22,
   "metadata": {
    "collapsed": false
   },
   "outputs": [
    {
     "name": "stdout",
     "output_type": "stream",
     "text": [
      "74, 89\n",
      "87, 142\n",
      "92, 70\n",
      "92, 67\n",
      "67, 95\n",
      "95, 311\n",
      "67, 311\n",
      "130, 180\n",
      "176, 130\n",
      "176, 134\n",
      "134, 173\n",
      "140, 229\n",
      "229, 267\n",
      "143, 232\n",
      "232, 147\n",
      "147, 235\n",
      "88, 318\n",
      "132, 274\n",
      "136, 270\n",
      "63, 312\n",
      "66, 315\n",
      "277, 305\n",
      "277, 304\n",
      "273, 310\n"
     ]
    }
   ],
   "source": [
    "for row in ContactsArray:\n",
    "    print \"%d, %d\" % (row[0], row[1])"
   ]
  },
  {
   "cell_type": "code",
   "execution_count": 49,
   "metadata": {
    "collapsed": false
   },
   "outputs": [
    {
     "data": {
      "text/plain": [
       "array([[  8.01501416,   7.60614444,   8.94647989,   9.17213875,\n",
       "          7.10779245,   6.94500261,   8.17743188,   5.79783425,\n",
       "          8.42329523,   6.14576513,   7.50386324],\n",
       "       [  7.49746379,   7.18053985,   8.58753197,   8.98480982,\n",
       "          6.48382268,   6.44820313,   7.71929406,   5.41529165,\n",
       "          8.08888202,   5.92816939,   7.28759928],\n",
       "       [  8.35075973,   7.8854732 ,   9.20127332,   9.57838838,\n",
       "          6.94363344,   6.68545317,   7.82130644,   5.5784075 ,\n",
       "          8.01957662,   5.83230632,   7.11743986],\n",
       "       [  8.95968706,   8.60060507,   9.93704112,  10.41952258,\n",
       "          7.5519796 ,   7.3892967 ,   8.49872801,   6.39838401,\n",
       "          8.74560816,   6.69540866,   7.91852506],\n",
       "       [  5.95480155,   5.66918154,   7.10833003,   7.58672584,\n",
       "          5.0020102 ,   5.13141863,   6.4672239 ,   4.26786926,\n",
       "          7.01501177,   5.06677033,   6.40561587],\n",
       "       [  5.48200001,   5.48672701,   6.99145502,   7.50810108,\n",
       "          5.20598396,   5.64761993,   7.03333115,   4.99610628,\n",
       "          7.74359945,   5.9780698 ,   7.2781405 ],\n",
       "       [  5.73857402,   5.54593811,   6.97123163,   7.63380284,\n",
       "          4.59003724,   4.86271227,   6.15041605,   4.24794465,\n",
       "          6.81622254,   5.16028039,   6.38428892],\n",
       "       [  4.04364956,   4.14693452,   5.65212544,   6.21484897,\n",
       "          4.1533884 ,   4.82423191,   6.18928871,   4.47009946,\n",
       "          7.05837939,   5.64808016,   6.81831071]])"
      ]
     },
     "execution_count": 49,
     "metadata": {},
     "output_type": "execute_result"
    }
   ],
   "source": [
    "resid1 = str(\"resid %d\") %74\n",
    "resid2 = str(\"resid %d\") %89\n",
    "ContactArray = dists.distance_array(topol.select_atoms(resid1).get_positions(), topol.select_atoms(resid2).get_positions())\n",
    "ContactArray"
   ]
  },
  {
   "cell_type": "code",
   "execution_count": 51,
   "metadata": {
    "collapsed": false
   },
   "outputs": [
    {
     "name": "stdout",
     "output_type": "stream",
     "text": [
      "Get minimum value\n"
     ]
    }
   ],
   "source": [
    "print \"Get minimum value\""
   ]
  },
  {
   "cell_type": "code",
   "execution_count": 52,
   "metadata": {
    "collapsed": false
   },
   "outputs": [
    {
     "data": {
      "text/plain": [
       "array([[  8.01501416,   7.60614444,   8.94647989,   9.17213875,\n",
       "          7.10779245,   6.94500261,   8.17743188,   5.79783425,\n",
       "          8.42329523,   6.14576513,   7.50386324],\n",
       "       [  7.49746379,   7.18053985,   8.58753197,   8.98480982,\n",
       "          6.48382268,   6.44820313,   7.71929406,   5.41529165,\n",
       "          8.08888202,   5.92816939,   7.28759928],\n",
       "       [  8.35075973,   7.8854732 ,   9.20127332,   9.57838838,\n",
       "          6.94363344,   6.68545317,   7.82130644,   5.5784075 ,\n",
       "          8.01957662,   5.83230632,   7.11743986],\n",
       "       [  8.95968706,   8.60060507,   9.93704112,  10.41952258,\n",
       "          7.5519796 ,   7.3892967 ,   8.49872801,   6.39838401,\n",
       "          8.74560816,   6.69540866,   7.91852506],\n",
       "       [  5.95480155,   5.66918154,   7.10833003,   7.58672584,\n",
       "          5.0020102 ,   5.13141863,   6.4672239 ,   4.26786926,\n",
       "          7.01501177,   5.06677033,   6.40561587],\n",
       "       [  5.48200001,   5.48672701,   6.99145502,   7.50810108,\n",
       "          5.20598396,   5.64761993,   7.03333115,   4.99610628,\n",
       "          7.74359945,   5.9780698 ,   7.2781405 ],\n",
       "       [  5.73857402,   5.54593811,   6.97123163,   7.63380284,\n",
       "          4.59003724,   4.86271227,   6.15041605,   4.24794465,\n",
       "          6.81622254,   5.16028039,   6.38428892],\n",
       "       [  4.04364956,   4.14693452,   5.65212544,   6.21484897,\n",
       "          4.1533884 ,   4.82423191,   6.18928871,   4.47009946,\n",
       "          7.05837939,   5.64808016,   6.81831071]])"
      ]
     },
     "execution_count": 52,
     "metadata": {},
     "output_type": "execute_result"
    }
   ],
   "source": [
    "ContactArray"
   ]
  },
  {
   "cell_type": "code",
   "execution_count": 53,
   "metadata": {
    "collapsed": false
   },
   "outputs": [
    {
     "data": {
      "text/plain": [
       "4.0436495572668223"
      ]
     },
     "execution_count": 53,
     "metadata": {},
     "output_type": "execute_result"
    }
   ],
   "source": [
    "nm.amin(ContactArray)"
   ]
  },
  {
   "cell_type": "code",
   "execution_count": 73,
   "metadata": {
    "collapsed": false
   },
   "outputs": [],
   "source": [
    "minDistArray = []\n",
    "for row in ContactsArray:\n",
    "    resid1 = str(\"resid %d\") % row[0];\n",
    "    resid2 = str(\"resid %d\") % row[1];\n",
    "    coords1 = topol.select_atoms(resid1).get_positions()\n",
    "    coords2 = topol.select_atoms(resid2).get_positions()\n",
    "    ContactsMatrix = dists.distance_array(coords1, coords2)\n",
    "    minDistArray.append(nm.amin(ContactsMatrix))\n",
    "    ContactsMatrix = 0"
   ]
  },
  {
   "cell_type": "code",
   "execution_count": 75,
   "metadata": {
    "collapsed": false
   },
   "outputs": [
    {
     "data": {
      "text/plain": [
       "[4.0436495572668223,\n",
       " 2.9313487254907149,\n",
       " 3.81199418109665,\n",
       " 3.5000023407424741,\n",
       " 3.4461192106658838,\n",
       " 2.7407641410880315,\n",
       " 2.9238423456953471,\n",
       " 3.6234785596521535,\n",
       " 3.8772473266213607,\n",
       " 3.6647524671403158,\n",
       " 3.8669760592494571,\n",
       " 3.682638314275728,\n",
       " 3.5088267368419532,\n",
       " 4.1074842875297817,\n",
       " 4.0412913600263511,\n",
       " 3.6547541990048189,\n",
       " 3.6292905965536613,\n",
       " 3.6753364775629511,\n",
       " 3.7517300501312918,\n",
       " 3.6886843410922854,\n",
       " 3.8360257269058762,\n",
       " 6.6384744005889393,\n",
       " 3.6431711107727947,\n",
       " 3.6338791466196807]"
      ]
     },
     "execution_count": 75,
     "metadata": {},
     "output_type": "execute_result"
    }
   ],
   "source": [
    "minDistArray"
   ]
  },
  {
   "cell_type": "code",
   "execution_count": 80,
   "metadata": {
    "collapsed": true
   },
   "outputs": [],
   "source": [
    "GLAS = 0\n",
    "for dist in minDistArray:\n",
    "    if dist < 4:\n",
    "        GLAS += 1"
   ]
  },
  {
   "cell_type": "code",
   "execution_count": 81,
   "metadata": {
    "collapsed": false
   },
   "outputs": [
    {
     "data": {
      "text/plain": [
       "20"
      ]
     },
     "execution_count": 81,
     "metadata": {},
     "output_type": "execute_result"
    }
   ],
   "source": [
    "GLAS"
   ]
  },
  {
   "cell_type": "code",
   "execution_count": 1,
   "metadata": {
    "collapsed": false
   },
   "outputs": [
    {
     "name": "stdout",
     "output_type": "stream",
     "text": [
      "\n",
      "Checking configuration input...\n",
      "\n",
      "Since you didn't input any CHICOs or NACHOs, I will attempt to calculate them from the input structure.\n",
      "This may not be the most accurate way to do this, so please be careful when using the results.\n",
      "\n",
      "\n",
      "Successfully loaded topology.\n",
      "\n",
      "Attempting to get CHICOs from input file...\n",
      "\n",
      "Since you asked me to find the CHICOs, I will write them to a file so you can verify and confirm them.\n",
      "If any are wrong, please change them and re-run me using the flag --chicos followed by the CHICOs file.\n",
      "Thank you.\n",
      "\n",
      "CHICOs loaded from input structure.\n",
      "\n",
      "Attempting to get NACHOs from input file...\n",
      "\n",
      "Since you asked me to find the NACHOs, I will write them to a file so you can verify and confirm them.\n",
      "If any are wrong, please change them and re-run me using the flag --chicos followed by the NACHOs file.\n",
      "Thank you.\n",
      "\n",
      "NACHOs loaded from input structure.\n",
      "\n",
      "Pre-initialising relevant variables and arrays...\n",
      "\n"
     ]
    },
    {
     "name": "stderr",
     "output_type": "stream",
     "text": [
      "/biggin/b15/shil4362/scripts/anaconda2/lib/python2.7/site-packages/numpy/lib/utils.py:99: DeprecationWarning: `get_positions` is deprecated!\n",
      "This will be removed in version 0.16.0; use `positions` property instead\n",
      "  warnings.warn(depdoc, DeprecationWarning)\n"
     ]
    },
    {
     "name": "stdout",
     "output_type": "stream",
     "text": [
      "Pre-initialising relevant variables and arrays...\n",
      "\n"
     ]
    }
   ],
   "source": [
    "run ../../scripts/pyGLAS.py -r 4N6H_GPCRDB.pdb"
   ]
  },
  {
   "cell_type": "code",
   "execution_count": 2,
   "metadata": {
    "collapsed": false
   },
   "outputs": [
    {
     "data": {
      "text/plain": [
       "{}"
      ]
     },
     "execution_count": 2,
     "metadata": {},
     "output_type": "execute_result"
    }
   ],
   "source": [
    "minDistDict"
   ]
  },
  {
   "cell_type": "code",
   "execution_count": 3,
   "metadata": {
    "collapsed": false
   },
   "outputs": [
    {
     "data": {
      "text/plain": [
       "<Universe with 3582 atoms>"
      ]
     },
     "execution_count": 3,
     "metadata": {},
     "output_type": "execute_result"
    }
   ],
   "source": [
    "system"
   ]
  },
  {
   "cell_type": "code",
   "execution_count": 4,
   "metadata": {
    "collapsed": true
   },
   "outputs": [],
   "source": [
    "SAS = 0"
   ]
  },
  {
   "cell_type": "code",
   "execution_count": 5,
   "metadata": {
    "collapsed": true
   },
   "outputs": [],
   "source": [
    "minDistDict = {}"
   ]
  },
  {
   "cell_type": "code",
   "execution_count": 13,
   "metadata": {
    "collapsed": false
   },
   "outputs": [
    {
     "name": "stdout",
     "output_type": "stream",
     "text": [
      "-4\n"
     ]
    }
   ],
   "source": [
    "for key in nachosDict:\n",
    "    resid1 = str(\"resid %s and not name H*\") % nachosDict[key][0];\n",
    "    resid2 = str(\"resid %s and not name H*\") % nachosDict[key][1];\n",
    "    coords1 = system.select_atoms(resid1).get_positions();\n",
    "    coords2 = system.select_atoms(resid2).get_positions();\n",
    "    ContactsMatrix = dists.distance_array(coords1, coords2)\n",
    "    minDistDict[key] = nm.amin(ContactsMatrix)\n",
    "    ContactsMatrix = 0\n",
    "    \n",
    "if minDistDict is not None:\n",
    "    for key in minDistDict:\n",
    "        if key < 8:\n",
    "            if minDistDict[key] < args.cutoff:\n",
    "                SAS -= 1;\n",
    "        elif key > 7:\n",
    "            if minDistDict[key] < args.cutoff:\n",
    "                SAS += 1;\n",
    "                \n",
    "print SAS"
   ]
  },
  {
   "cell_type": "code",
   "execution_count": null,
   "metadata": {
    "collapsed": true
   },
   "outputs": [],
   "source": []
  }
 ],
 "metadata": {
  "anaconda-cloud": {},
  "kernelspec": {
   "display_name": "Python [default]",
   "language": "python",
   "name": "python2"
  },
  "language_info": {
   "codemirror_mode": {
    "name": "ipython",
    "version": 2
   },
   "file_extension": ".py",
   "mimetype": "text/x-python",
   "name": "python",
   "nbconvert_exporter": "python",
   "pygments_lexer": "ipython2",
   "version": "2.7.12"
  }
 },
 "nbformat": 4,
 "nbformat_minor": 0
}
