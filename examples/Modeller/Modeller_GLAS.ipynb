{
 "cells": [
  {
   "cell_type": "markdown",
   "metadata": {
    "collapsed": true
   },
   "source": [
    "Let's look at how to improve GPCR modelling using Modeller scores and GLAS."
   ]
  },
  {
   "cell_type": "code",
   "execution_count": 1,
   "metadata": {
    "collapsed": false
   },
   "outputs": [
    {
     "name": "stdout",
     "output_type": "stream",
     "text": [
      "DOR_CHICO_pairs.txt  mMOR.B99990026.pdb  mMOR.B99990052.pdb  mMOR.B99990078.pdb\r\n",
      "mMOR.B99990001.pdb   mMOR.B99990027.pdb  mMOR.B99990053.pdb  mMOR.B99990079.pdb\r\n",
      "mMOR.B99990002.pdb   mMOR.B99990028.pdb  mMOR.B99990054.pdb  mMOR.B99990080.pdb\r\n",
      "mMOR.B99990003.pdb   mMOR.B99990029.pdb  mMOR.B99990055.pdb  mMOR.B99990081.pdb\r\n",
      "mMOR.B99990004.pdb   mMOR.B99990030.pdb  mMOR.B99990056.pdb  mMOR.B99990082.pdb\r\n",
      "mMOR.B99990005.pdb   mMOR.B99990031.pdb  mMOR.B99990057.pdb  mMOR.B99990083.pdb\r\n",
      "mMOR.B99990006.pdb   mMOR.B99990032.pdb  mMOR.B99990058.pdb  mMOR.B99990084.pdb\r\n",
      "mMOR.B99990007.pdb   mMOR.B99990033.pdb  mMOR.B99990059.pdb  mMOR.B99990085.pdb\r\n",
      "mMOR.B99990008.pdb   mMOR.B99990034.pdb  mMOR.B99990060.pdb  mMOR.B99990086.pdb\r\n",
      "mMOR.B99990009.pdb   mMOR.B99990035.pdb  mMOR.B99990061.pdb  mMOR.B99990087.pdb\r\n",
      "mMOR.B99990010.pdb   mMOR.B99990036.pdb  mMOR.B99990062.pdb  mMOR.B99990088.pdb\r\n",
      "mMOR.B99990011.pdb   mMOR.B99990037.pdb  mMOR.B99990063.pdb  mMOR.B99990089.pdb\r\n",
      "mMOR.B99990012.pdb   mMOR.B99990038.pdb  mMOR.B99990064.pdb  mMOR.B99990090.pdb\r\n",
      "mMOR.B99990013.pdb   mMOR.B99990039.pdb  mMOR.B99990065.pdb  mMOR.B99990091.pdb\r\n",
      "mMOR.B99990014.pdb   mMOR.B99990040.pdb  mMOR.B99990066.pdb  mMOR.B99990092.pdb\r\n",
      "mMOR.B99990015.pdb   mMOR.B99990041.pdb  mMOR.B99990067.pdb  mMOR.B99990093.pdb\r\n",
      "mMOR.B99990016.pdb   mMOR.B99990042.pdb  mMOR.B99990068.pdb  mMOR.B99990094.pdb\r\n",
      "mMOR.B99990017.pdb   mMOR.B99990043.pdb  mMOR.B99990069.pdb  mMOR.B99990095.pdb\r\n",
      "mMOR.B99990018.pdb   mMOR.B99990044.pdb  mMOR.B99990070.pdb  mMOR.B99990096.pdb\r\n",
      "mMOR.B99990019.pdb   mMOR.B99990045.pdb  mMOR.B99990071.pdb  mMOR.B99990097.pdb\r\n",
      "mMOR.B99990020.pdb   mMOR.B99990046.pdb  mMOR.B99990072.pdb  mMOR.B99990098.pdb\r\n",
      "mMOR.B99990021.pdb   mMOR.B99990047.pdb  mMOR.B99990073.pdb  mMOR.B99990099.pdb\r\n",
      "mMOR.B99990022.pdb   mMOR.B99990048.pdb  mMOR.B99990074.pdb  mMOR.B99990100.pdb\r\n",
      "mMOR.B99990023.pdb   mMOR.B99990049.pdb  mMOR.B99990075.pdb  README\r\n",
      "mMOR.B99990024.pdb   mMOR.B99990050.pdb  mMOR.B99990076.pdb  Untitled.ipynb\r\n",
      "mMOR.B99990025.pdb   mMOR.B99990051.pdb  mMOR.B99990077.pdb\r\n"
     ]
    }
   ],
   "source": [
    "ls"
   ]
  },
  {
   "cell_type": "markdown",
   "metadata": {
    "collapsed": true
   },
   "source": [
    "All pdb files are models generated from Modeler [Sali and Blundell, 1993], using the structure of the mus musculus\n",
    "Mu Opioid Receptor (hence mMOR). The DOR_CHICO_pairs.txt is the CHICOs file (couldn't get the correct \n",
    "Ballesteros-Weinstein numbering from the GPCR Database; in that case, it'll have to be by hand. See 'How to prepare \n",
    "input files' in the Documentation)."
   ]
  },
  {
   "cell_type": "markdown",
   "metadata": {
    "collapsed": true
   },
   "source": [
    "From these files, one can now use the '--format plain' flag. It simply outputs a test file with the GLAS of the receptor."
   ]
  },
  {
   "cell_type": "markdown",
   "metadata": {
    "collapsed": true
   },
   "source": [
    "One can run bash commands in Jupyter Notebook, but I have elected to run the following command in the command line:"
   ]
  },
  {
   "cell_type": "markdown",
   "metadata": {
    "collapsed": true
   },
   "source": [
    "for f in *.pdb;\n",
    "do\n",
    "    python ../../scripts/pyGLAS.py -r $f --chicos Default_CHICOs.txt --no_nachos --format plain;\n",
    "done"
   ]
  },
  {
   "cell_type": "markdown",
   "metadata": {
    "collapsed": true
   },
   "source": [
    "The command took 5m8.935s (as measured by the time command in bash). Let's see the output."
   ]
  },
  {
   "cell_type": "code",
   "execution_count": 1,
   "metadata": {
    "collapsed": false
   },
   "outputs": [
    {
     "name": "stdout",
     "output_type": "stream",
     "text": [
      "Default_CHICOs.txt       mMOR.B99990034.pdb       mMOR.B99990068.pdb\r\n",
      "mMOR.B99990001_GLAS.txt  mMOR.B99990035_GLAS.txt  mMOR.B99990069_GLAS.txt\r\n",
      "mMOR.B99990001.pdb       mMOR.B99990035.pdb       mMOR.B99990069.pdb\r\n",
      "mMOR.B99990002_GLAS.txt  mMOR.B99990036_GLAS.txt  mMOR.B99990070_GLAS.txt\r\n",
      "mMOR.B99990002.pdb       mMOR.B99990036.pdb       mMOR.B99990070.pdb\r\n",
      "mMOR.B99990003_GLAS.txt  mMOR.B99990037_GLAS.txt  mMOR.B99990071_GLAS.txt\r\n",
      "mMOR.B99990003.pdb       mMOR.B99990037.pdb       mMOR.B99990071.pdb\r\n",
      "mMOR.B99990004_GLAS.txt  mMOR.B99990038_GLAS.txt  mMOR.B99990072_GLAS.txt\r\n",
      "mMOR.B99990004.pdb       mMOR.B99990038.pdb       mMOR.B99990072.pdb\r\n",
      "mMOR.B99990005_GLAS.txt  mMOR.B99990039_GLAS.txt  mMOR.B99990073_GLAS.txt\r\n",
      "mMOR.B99990005.pdb       mMOR.B99990039.pdb       mMOR.B99990073.pdb\r\n",
      "mMOR.B99990006_GLAS.txt  mMOR.B99990040_GLAS.txt  mMOR.B99990074_GLAS.txt\r\n",
      "mMOR.B99990006.pdb       mMOR.B99990040.pdb       mMOR.B99990074.pdb\r\n",
      "mMOR.B99990007_GLAS.txt  mMOR.B99990041_GLAS.txt  mMOR.B99990075_GLAS.txt\r\n",
      "mMOR.B99990007.pdb       mMOR.B99990041.pdb       mMOR.B99990075.pdb\r\n",
      "mMOR.B99990008_GLAS.txt  mMOR.B99990042_GLAS.txt  mMOR.B99990076_GLAS.txt\r\n",
      "mMOR.B99990008.pdb       mMOR.B99990042.pdb       mMOR.B99990076.pdb\r\n",
      "mMOR.B99990009_GLAS.txt  mMOR.B99990043_GLAS.txt  mMOR.B99990077_GLAS.txt\r\n",
      "mMOR.B99990009.pdb       mMOR.B99990043.pdb       mMOR.B99990077.pdb\r\n",
      "mMOR.B99990010_GLAS.txt  mMOR.B99990044_GLAS.txt  mMOR.B99990078_GLAS.txt\r\n",
      "mMOR.B99990010.pdb       mMOR.B99990044.pdb       mMOR.B99990078.pdb\r\n",
      "mMOR.B99990011_GLAS.txt  mMOR.B99990045_GLAS.txt  mMOR.B99990079_GLAS.txt\r\n",
      "mMOR.B99990011.pdb       mMOR.B99990045.pdb       mMOR.B99990079.pdb\r\n",
      "mMOR.B99990012_GLAS.txt  mMOR.B99990046_GLAS.txt  mMOR.B99990080_GLAS.txt\r\n",
      "mMOR.B99990012.pdb       mMOR.B99990046.pdb       mMOR.B99990080.pdb\r\n",
      "mMOR.B99990013_GLAS.txt  mMOR.B99990047_GLAS.txt  mMOR.B99990081_GLAS.txt\r\n",
      "mMOR.B99990013.pdb       mMOR.B99990047.pdb       mMOR.B99990081.pdb\r\n",
      "mMOR.B99990014_GLAS.txt  mMOR.B99990048_GLAS.txt  mMOR.B99990082_GLAS.txt\r\n",
      "mMOR.B99990014.pdb       mMOR.B99990048.pdb       mMOR.B99990082.pdb\r\n",
      "mMOR.B99990015_GLAS.txt  mMOR.B99990049_GLAS.txt  mMOR.B99990083_GLAS.txt\r\n",
      "mMOR.B99990015.pdb       mMOR.B99990049.pdb       mMOR.B99990083.pdb\r\n",
      "mMOR.B99990016_GLAS.txt  mMOR.B99990050_GLAS.txt  mMOR.B99990084_GLAS.txt\r\n",
      "mMOR.B99990016.pdb       mMOR.B99990050.pdb       mMOR.B99990084.pdb\r\n",
      "mMOR.B99990017_GLAS.txt  mMOR.B99990051_GLAS.txt  mMOR.B99990085_GLAS.txt\r\n",
      "mMOR.B99990017.pdb       mMOR.B99990051.pdb       mMOR.B99990085.pdb\r\n",
      "mMOR.B99990018_GLAS.txt  mMOR.B99990052_GLAS.txt  mMOR.B99990086_GLAS.txt\r\n",
      "mMOR.B99990018.pdb       mMOR.B99990052.pdb       mMOR.B99990086.pdb\r\n",
      "mMOR.B99990019_GLAS.txt  mMOR.B99990053_GLAS.txt  mMOR.B99990087_GLAS.txt\r\n",
      "mMOR.B99990019.pdb       mMOR.B99990053.pdb       mMOR.B99990087.pdb\r\n",
      "mMOR.B99990020_GLAS.txt  mMOR.B99990054_GLAS.txt  mMOR.B99990088_GLAS.txt\r\n",
      "mMOR.B99990020.pdb       mMOR.B99990054.pdb       mMOR.B99990088.pdb\r\n",
      "mMOR.B99990021_GLAS.txt  mMOR.B99990055_GLAS.txt  mMOR.B99990089_GLAS.txt\r\n",
      "mMOR.B99990021.pdb       mMOR.B99990055.pdb       mMOR.B99990089.pdb\r\n",
      "mMOR.B99990022_GLAS.txt  mMOR.B99990056_GLAS.txt  mMOR.B99990090_GLAS.txt\r\n",
      "mMOR.B99990022.pdb       mMOR.B99990056.pdb       mMOR.B99990090.pdb\r\n",
      "mMOR.B99990023_GLAS.txt  mMOR.B99990057_GLAS.txt  mMOR.B99990091_GLAS.txt\r\n",
      "mMOR.B99990023.pdb       mMOR.B99990057.pdb       mMOR.B99990091.pdb\r\n",
      "mMOR.B99990024_GLAS.txt  mMOR.B99990058_GLAS.txt  mMOR.B99990092_GLAS.txt\r\n",
      "mMOR.B99990024.pdb       mMOR.B99990058.pdb       mMOR.B99990092.pdb\r\n",
      "mMOR.B99990025_GLAS.txt  mMOR.B99990059_GLAS.txt  mMOR.B99990093_GLAS.txt\r\n",
      "mMOR.B99990025.pdb       mMOR.B99990059.pdb       mMOR.B99990093.pdb\r\n",
      "mMOR.B99990026_GLAS.txt  mMOR.B99990060_GLAS.txt  mMOR.B99990094_GLAS.txt\r\n",
      "mMOR.B99990026.pdb       mMOR.B99990060.pdb       mMOR.B99990094.pdb\r\n",
      "mMOR.B99990027_GLAS.txt  mMOR.B99990061_GLAS.txt  mMOR.B99990095_GLAS.txt\r\n",
      "mMOR.B99990027.pdb       mMOR.B99990061.pdb       mMOR.B99990095.pdb\r\n",
      "mMOR.B99990028_GLAS.txt  mMOR.B99990062_GLAS.txt  mMOR.B99990096_GLAS.txt\r\n",
      "mMOR.B99990028.pdb       mMOR.B99990062.pdb       mMOR.B99990096.pdb\r\n",
      "mMOR.B99990029_GLAS.txt  mMOR.B99990063_GLAS.txt  mMOR.B99990097_GLAS.txt\r\n",
      "mMOR.B99990029.pdb       mMOR.B99990063.pdb       mMOR.B99990097.pdb\r\n",
      "mMOR.B99990030_GLAS.txt  mMOR.B99990064_GLAS.txt  mMOR.B99990098_GLAS.txt\r\n",
      "mMOR.B99990030.pdb       mMOR.B99990064.pdb       mMOR.B99990098.pdb\r\n",
      "mMOR.B99990031_GLAS.txt  mMOR.B99990065_GLAS.txt  mMOR.B99990099_GLAS.txt\r\n",
      "mMOR.B99990031.pdb       mMOR.B99990065.pdb       mMOR.B99990099.pdb\r\n",
      "mMOR.B99990032_GLAS.txt  mMOR.B99990066_GLAS.txt  mMOR.B99990100_GLAS.txt\r\n",
      "mMOR.B99990032.pdb       mMOR.B99990066.pdb       mMOR.B99990100.pdb\r\n",
      "mMOR.B99990033_GLAS.txt  mMOR.B99990067_GLAS.txt  README\r\n",
      "mMOR.B99990033.pdb       mMOR.B99990067.pdb       Untitled.ipynb\r\n",
      "mMOR.B99990034_GLAS.txt  mMOR.B99990068_GLAS.txt\r\n"
     ]
    }
   ],
   "source": [
    "ls"
   ]
  },
  {
   "cell_type": "markdown",
   "metadata": {
    "collapsed": true
   },
   "source": [
    "The *_GLAS.txt files were created using pyGLAS. Looking into one of them..."
   ]
  },
  {
   "cell_type": "code",
   "execution_count": 2,
   "metadata": {
    "collapsed": false
   },
   "outputs": [
    {
     "name": "stdout",
     "output_type": "stream",
     "text": [
      "18"
     ]
    }
   ],
   "source": [
    "cat mMOR.B99990001_GLAS.txt"
   ]
  },
  {
   "cell_type": "markdown",
   "metadata": {
    "collapsed": true
   },
   "source": [
    "It shows just the GLAS. Now, we can do some more bash to get a comprehensive list of all the receptor structures\n",
    "and their respective GLAS. For example:"
   ]
  },
  {
   "cell_type": "markdown",
   "metadata": {
    "collapsed": true
   },
   "source": [
    "for f in *.pdb; \n",
    "do\n",
    "    echo -e $f \"\\t\" $(cat $(basename $f \".pdb\")_GLAS.txt) >> GLASs.txt\n",
    "done"
   ]
  },
  {
   "cell_type": "markdown",
   "metadata": {
    "collapsed": true
   },
   "source": [
    "Creates a file called \"GLASs.txt\"."
   ]
  },
  {
   "cell_type": "code",
   "execution_count": 1,
   "metadata": {
    "collapsed": false
   },
   "outputs": [
    {
     "name": "stdout",
     "output_type": "stream",
     "text": [
      "mMOR.B99990001.pdb \t 18\r\n",
      "mMOR.B99990002.pdb \t 20\r\n",
      "mMOR.B99990003.pdb \t 18\r\n",
      "mMOR.B99990004.pdb \t 19\r\n",
      "mMOR.B99990005.pdb \t 18\r\n",
      "mMOR.B99990006.pdb \t 17\r\n",
      "mMOR.B99990007.pdb \t 20\r\n",
      "mMOR.B99990008.pdb \t 19\r\n",
      "mMOR.B99990009.pdb \t 17\r\n",
      "mMOR.B99990010.pdb \t 18\r\n",
      "mMOR.B99990011.pdb \t 17\r\n",
      "mMOR.B99990012.pdb \t 18\r\n",
      "mMOR.B99990013.pdb \t 17\r\n",
      "mMOR.B99990014.pdb \t 19\r\n",
      "mMOR.B99990015.pdb \t 19\r\n",
      "mMOR.B99990016.pdb \t 20\r\n",
      "mMOR.B99990017.pdb \t 19\r\n",
      "mMOR.B99990018.pdb \t 19\r\n",
      "mMOR.B99990019.pdb \t 18\r\n",
      "mMOR.B99990020.pdb \t 18\r\n",
      "mMOR.B99990021.pdb \t 19\r\n",
      "mMOR.B99990022.pdb \t 21\r\n",
      "mMOR.B99990023.pdb \t 17\r\n",
      "mMOR.B99990024.pdb \t 17\r\n",
      "mMOR.B99990025.pdb \t 18\r\n",
      "mMOR.B99990026.pdb \t 19\r\n",
      "mMOR.B99990027.pdb \t 18\r\n",
      "mMOR.B99990028.pdb \t 19\r\n",
      "mMOR.B99990029.pdb \t 22\r\n",
      "mMOR.B99990030.pdb \t 15\r\n",
      "mMOR.B99990031.pdb \t 20\r\n",
      "mMOR.B99990032.pdb \t 21\r\n",
      "mMOR.B99990033.pdb \t 21\r\n",
      "mMOR.B99990034.pdb \t 19\r\n",
      "mMOR.B99990035.pdb \t 18\r\n",
      "mMOR.B99990036.pdb \t 20\r\n",
      "mMOR.B99990037.pdb \t 17\r\n",
      "mMOR.B99990038.pdb \t 18\r\n",
      "mMOR.B99990039.pdb \t 19\r\n",
      "mMOR.B99990040.pdb \t 20\r\n",
      "mMOR.B99990041.pdb \t 22\r\n",
      "mMOR.B99990042.pdb \t 21\r\n",
      "mMOR.B99990043.pdb \t 19\r\n",
      "mMOR.B99990044.pdb \t 19\r\n",
      "mMOR.B99990045.pdb \t 20\r\n",
      "mMOR.B99990046.pdb \t 20\r\n",
      "mMOR.B99990047.pdb \t 20\r\n",
      "mMOR.B99990048.pdb \t 18\r\n",
      "mMOR.B99990049.pdb \t 17\r\n",
      "mMOR.B99990050.pdb \t 19\r\n",
      "mMOR.B99990051.pdb \t 20\r\n",
      "mMOR.B99990052.pdb \t 19\r\n",
      "mMOR.B99990053.pdb \t 24\r\n",
      "mMOR.B99990054.pdb \t 20\r\n",
      "mMOR.B99990055.pdb \t 19\r\n",
      "mMOR.B99990056.pdb \t 18\r\n",
      "mMOR.B99990057.pdb \t 18\r\n",
      "mMOR.B99990058.pdb \t 17\r\n",
      "mMOR.B99990059.pdb \t 20\r\n",
      "mMOR.B99990060.pdb \t 18\r\n",
      "mMOR.B99990061.pdb \t 18\r\n",
      "mMOR.B99990062.pdb \t 20\r\n",
      "mMOR.B99990063.pdb \t 19\r\n",
      "mMOR.B99990064.pdb \t 19\r\n",
      "mMOR.B99990065.pdb \t 19\r\n",
      "mMOR.B99990066.pdb \t 18\r\n",
      "mMOR.B99990067.pdb \t 17\r\n",
      "mMOR.B99990068.pdb \t 19\r\n",
      "mMOR.B99990069.pdb \t 21\r\n",
      "mMOR.B99990070.pdb \t 19\r\n",
      "mMOR.B99990071.pdb \t 21\r\n",
      "mMOR.B99990072.pdb \t 19\r\n",
      "mMOR.B99990073.pdb \t 19\r\n",
      "mMOR.B99990074.pdb \t 19\r\n",
      "mMOR.B99990075.pdb \t 17\r\n",
      "mMOR.B99990076.pdb \t 18\r\n",
      "mMOR.B99990077.pdb \t 18\r\n",
      "mMOR.B99990078.pdb \t 21\r\n",
      "mMOR.B99990079.pdb \t 20\r\n",
      "mMOR.B99990080.pdb \t 19\r\n",
      "mMOR.B99990081.pdb \t 20\r\n",
      "mMOR.B99990082.pdb \t 18\r\n",
      "mMOR.B99990083.pdb \t 18\r\n",
      "mMOR.B99990084.pdb \t 18\r\n",
      "mMOR.B99990085.pdb \t 19\r\n",
      "mMOR.B99990086.pdb \t 19\r\n",
      "mMOR.B99990087.pdb \t 19\r\n",
      "mMOR.B99990088.pdb \t 20\r\n",
      "mMOR.B99990089.pdb \t 19\r\n",
      "mMOR.B99990090.pdb \t 19\r\n",
      "mMOR.B99990091.pdb \t 19\r\n",
      "mMOR.B99990092.pdb \t 19\r\n",
      "mMOR.B99990093.pdb \t 19\r\n",
      "mMOR.B99990094.pdb \t 21\r\n",
      "mMOR.B99990095.pdb \t 20\r\n",
      "mMOR.B99990096.pdb \t 20\r\n",
      "mMOR.B99990097.pdb \t 19\r\n",
      "mMOR.B99990098.pdb \t 19\r\n",
      "mMOR.B99990099.pdb \t 20\r\n",
      "mMOR.B99990100.pdb \t 21\r\n"
     ]
    }
   ],
   "source": [
    "cat GLASs.txt"
   ]
  },
  {
   "cell_type": "markdown",
   "metadata": {
    "collapsed": true
   },
   "source": [
    "These can now be used alongside the DOPE score to better select a model for simulation."
   ]
  }
 ],
 "metadata": {
  "anaconda-cloud": {},
  "kernelspec": {
   "display_name": "Python [conda root]",
   "language": "python",
   "name": "conda-root-py"
  },
  "language_info": {
   "codemirror_mode": {
    "name": "ipython",
    "version": 2
   },
   "file_extension": ".py",
   "mimetype": "text/x-python",
   "name": "python",
   "nbconvert_exporter": "python",
   "pygments_lexer": "ipython2",
   "version": "2.7.12"
  }
 },
 "nbformat": 4,
 "nbformat_minor": 1
}
